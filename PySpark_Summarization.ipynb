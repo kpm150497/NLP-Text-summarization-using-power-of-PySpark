{
  "nbformat": 4,
  "nbformat_minor": 0,
  "metadata": {
    "colab": {
      "provenance": []
    },
    "kernelspec": {
      "name": "python3",
      "display_name": "Python 3"
    },
    "language_info": {
      "name": "python"
    }
  },
  "cells": [
    {
      "cell_type": "markdown",
      "source": [
        "# PySpark Summarization Work\n",
        "### Submitted by: Kunal Malhan"
      ],
      "metadata": {
        "id": "Tkkrecc4n_Id"
      }
    },
    {
      "cell_type": "markdown",
      "source": [
        "## 0.1. Installing required packages"
      ],
      "metadata": {
        "id": "yGmPs83gdcSH"
      }
    },
    {
      "cell_type": "code",
      "execution_count": 1,
      "metadata": {
        "colab": {
          "base_uri": "https://localhost:8080/"
        },
        "id": "EyoPPLQuJn5W",
        "outputId": "b4bab4bd-dd3f-42e5-c0ab-5cd525f7d4fc"
      },
      "outputs": [
        {
          "output_type": "stream",
          "name": "stdout",
          "text": [
            "Requirement already satisfied: lxml[html_clean] in /usr/local/lib/python3.10/dist-packages (5.3.0)\n",
            "Requirement already satisfied: lxml-html-clean in /usr/local/lib/python3.10/dist-packages (from lxml[html_clean]) (0.4.1)\n",
            "Requirement already satisfied: newspaper3k in /usr/local/lib/python3.10/dist-packages (0.2.8)\n",
            "Requirement already satisfied: beautifulsoup4>=4.4.1 in /usr/local/lib/python3.10/dist-packages (from newspaper3k) (4.12.3)\n",
            "Requirement already satisfied: Pillow>=3.3.0 in /usr/local/lib/python3.10/dist-packages (from newspaper3k) (11.0.0)\n",
            "Requirement already satisfied: PyYAML>=3.11 in /usr/local/lib/python3.10/dist-packages (from newspaper3k) (6.0.2)\n",
            "Requirement already satisfied: cssselect>=0.9.2 in /usr/local/lib/python3.10/dist-packages (from newspaper3k) (1.2.0)\n",
            "Requirement already satisfied: lxml>=3.6.0 in /usr/local/lib/python3.10/dist-packages (from newspaper3k) (5.3.0)\n",
            "Requirement already satisfied: nltk>=3.2.1 in /usr/local/lib/python3.10/dist-packages (from newspaper3k) (3.9.1)\n",
            "Requirement already satisfied: requests>=2.10.0 in /usr/local/lib/python3.10/dist-packages (from newspaper3k) (2.32.3)\n",
            "Requirement already satisfied: feedparser>=5.2.1 in /usr/local/lib/python3.10/dist-packages (from newspaper3k) (6.0.11)\n",
            "Requirement already satisfied: tldextract>=2.0.1 in /usr/local/lib/python3.10/dist-packages (from newspaper3k) (5.1.3)\n",
            "Requirement already satisfied: feedfinder2>=0.0.4 in /usr/local/lib/python3.10/dist-packages (from newspaper3k) (0.0.4)\n",
            "Requirement already satisfied: jieba3k>=0.35.1 in /usr/local/lib/python3.10/dist-packages (from newspaper3k) (0.35.1)\n",
            "Requirement already satisfied: python-dateutil>=2.5.3 in /usr/local/lib/python3.10/dist-packages (from newspaper3k) (2.8.2)\n",
            "Requirement already satisfied: tinysegmenter==0.3 in /usr/local/lib/python3.10/dist-packages (from newspaper3k) (0.3)\n",
            "Requirement already satisfied: soupsieve>1.2 in /usr/local/lib/python3.10/dist-packages (from beautifulsoup4>=4.4.1->newspaper3k) (2.6)\n",
            "Requirement already satisfied: six in /usr/local/lib/python3.10/dist-packages (from feedfinder2>=0.0.4->newspaper3k) (1.16.0)\n",
            "Requirement already satisfied: sgmllib3k in /usr/local/lib/python3.10/dist-packages (from feedparser>=5.2.1->newspaper3k) (1.0.0)\n",
            "Requirement already satisfied: click in /usr/local/lib/python3.10/dist-packages (from nltk>=3.2.1->newspaper3k) (8.1.7)\n",
            "Requirement already satisfied: joblib in /usr/local/lib/python3.10/dist-packages (from nltk>=3.2.1->newspaper3k) (1.4.2)\n",
            "Requirement already satisfied: regex>=2021.8.3 in /usr/local/lib/python3.10/dist-packages (from nltk>=3.2.1->newspaper3k) (2024.9.11)\n",
            "Requirement already satisfied: tqdm in /usr/local/lib/python3.10/dist-packages (from nltk>=3.2.1->newspaper3k) (4.66.6)\n",
            "Requirement already satisfied: charset-normalizer<4,>=2 in /usr/local/lib/python3.10/dist-packages (from requests>=2.10.0->newspaper3k) (3.4.0)\n",
            "Requirement already satisfied: idna<4,>=2.5 in /usr/local/lib/python3.10/dist-packages (from requests>=2.10.0->newspaper3k) (3.10)\n",
            "Requirement already satisfied: urllib3<3,>=1.21.1 in /usr/local/lib/python3.10/dist-packages (from requests>=2.10.0->newspaper3k) (2.2.3)\n",
            "Requirement already satisfied: certifi>=2017.4.17 in /usr/local/lib/python3.10/dist-packages (from requests>=2.10.0->newspaper3k) (2024.8.30)\n",
            "Requirement already satisfied: requests-file>=1.4 in /usr/local/lib/python3.10/dist-packages (from tldextract>=2.0.1->newspaper3k) (2.1.0)\n",
            "Requirement already satisfied: filelock>=3.0.8 in /usr/local/lib/python3.10/dist-packages (from tldextract>=2.0.1->newspaper3k) (3.16.1)\n"
          ]
        }
      ],
      "source": [
        "!pip install lxml[html_clean]\n",
        "!pip install newspaper3k"
      ]
    },
    {
      "cell_type": "markdown",
      "source": [
        "## 0.2. Import statements"
      ],
      "metadata": {
        "id": "ToY_y5Swiw_T"
      }
    },
    {
      "cell_type": "code",
      "source": [
        "from pyspark.sql import SparkSession\n",
        "from pyspark.ml.feature import StopWordsRemover\n",
        "from pyspark.sql.functions import explode, split, lower, regexp_replace, size, desc, array_distinct, trim, udf\n",
        "from pyspark.sql.types import ArrayType, StringType\n",
        "from newspaper import Article\n",
        "from os import truncate\n",
        "from transformers import pipeline"
      ],
      "metadata": {
        "id": "5ugBnTPzkFht"
      },
      "execution_count": 2,
      "outputs": []
    },
    {
      "cell_type": "markdown",
      "source": [
        "## 0.3. Getting news article and parsing"
      ],
      "metadata": {
        "id": "CjUTQGFNk_mD"
      }
    },
    {
      "cell_type": "code",
      "source": [
        "spark=SparkSession.builder.appName(\"NLP for Summerization\").getOrCreate()"
      ],
      "metadata": {
        "id": "4R7yU9uEm87t"
      },
      "execution_count": 3,
      "outputs": []
    },
    {
      "cell_type": "code",
      "source": [
        "url     = \"https://apnews.com/article/mideast-wars-israel-gaza-lebanon-5dbfc18c7311a6b3eb16c89981bd3dfb\"\n",
        "article = Article(url)\n",
        "article.download()\n",
        "article.parse()\n",
        "text    = article.text\n",
        "\n",
        "print(text[:600])"
      ],
      "metadata": {
        "id": "DzRlcQgWnQXq",
        "colab": {
          "base_uri": "https://localhost:8080/"
        },
        "outputId": "795851bb-1ffe-48c1-9002-c10dd19922c8"
      },
      "execution_count": 4,
      "outputs": [
        {
          "output_type": "stream",
          "name": "stdout",
          "text": [
            "The International Criminal Court issued arrest warrants on Thursday for Israeli Prime Minister Benjamin Netanyahu, his former defense minister and a Hamas military leader, accusing them of war crimes and crimes against humanity. The announcement came as health officials in the Gaza Strip said the death toll from the 13-month-old war between Israel and Hamas has surpassed 44,000.\n",
            "\n",
            "The warrant marked the first time that a sitting leader of a major Western ally has been accused of war crimes and crimes against humanity by a global court of justice. The ICC panel said there were reasonable grounds\n"
          ]
        }
      ]
    },
    {
      "cell_type": "markdown",
      "source": [
        "# 0.4. Create Spark dataframe"
      ],
      "metadata": {
        "id": "nWytsBV0pbiy"
      }
    },
    {
      "cell_type": "code",
      "source": [
        "data     = [(text,)]\n",
        "columns  = [\"article_text\"]\n",
        "df       = spark.createDataFrame(data,columns)\n",
        "df.show(truncate=40)"
      ],
      "metadata": {
        "id": "zUt7kIQhpaqX",
        "colab": {
          "base_uri": "https://localhost:8080/"
        },
        "outputId": "6fee25be-0a59-446a-e125-05578ba7a4b9"
      },
      "execution_count": 5,
      "outputs": [
        {
          "output_type": "stream",
          "name": "stdout",
          "text": [
            "+----------------------------------------+\n",
            "|                            article_text|\n",
            "+----------------------------------------+\n",
            "|The International Criminal Court issu...|\n",
            "+----------------------------------------+\n",
            "\n"
          ]
        }
      ]
    },
    {
      "cell_type": "markdown",
      "source": [
        "## 0.5. Cleaning the dataset"
      ],
      "metadata": {
        "id": "88_90a6OrTm4"
      }
    },
    {
      "cell_type": "markdown",
      "source": [
        "Making the sentencess"
      ],
      "metadata": {
        "id": "ASK-DBiqvaWa"
      }
    },
    {
      "cell_type": "code",
      "source": [
        "df    = df.withColumn(\"sentence\",explode(split(\"article_text\",\"\\.\")))\n",
        "df.show(truncate=30)"
      ],
      "metadata": {
        "id": "VafVHC_Zpy8o",
        "colab": {
          "base_uri": "https://localhost:8080/"
        },
        "outputId": "39469170-ef50-466c-d1fa-52b84f9ce4c8"
      },
      "execution_count": 6,
      "outputs": [
        {
          "output_type": "stream",
          "name": "stdout",
          "text": [
            "+------------------------------+------------------------------+\n",
            "|                  article_text|                      sentence|\n",
            "+------------------------------+------------------------------+\n",
            "|The International Criminal ...|The International Criminal ...|\n",
            "|The International Criminal ...| The announcement came as h...|\n",
            "|The International Criminal ...|\\n\\nThe warrant marked the ...|\n",
            "|The International Criminal ...| The ICC panel said there w...|\n",
            "|The International Criminal ...|\\n\\nIsrael’s war has caused...|\n",
            "|The International Criminal ...|3 million people from their...|\n",
            "|The International Criminal ...|\\n\\nIsrael launched its war...|\n",
            "|The International Criminal ...| 7, 2023, killing some 1,20...|\n",
            "|The International Criminal ...| Around 100 hostages are st...|\n",
            "|The International Criminal ...|\\n\\n___\\n\\nHere’s the Lates...|\n",
            "|The International Criminal ...|                             N|\n",
            "|The International Criminal ...|     deputy special envoy says|\n",
            "|The International Criminal ...|              \\n\\nAt the the U|\n",
            "|The International Criminal ...|                             N|\n",
            "|The International Criminal ...| Security Council on Thursd...|\n",
            "|The International Criminal ...|”\\n\\nIn the current escalat...|\n",
            "|The International Criminal ...|”\\n\\nHe pointed to Wednesda...|\n",
            "|The International Criminal ...|” Israel says its targets a...|\n",
            "|The International Criminal ...|\\n\\nHe said Israeli strikes...|\n",
            "|The International Criminal ...|           Edem Wosornu, the U|\n",
            "+------------------------------+------------------------------+\n",
            "only showing top 20 rows\n",
            "\n"
          ]
        }
      ]
    },
    {
      "cell_type": "markdown",
      "source": [
        "Removing non-alphabets and lower-casing the sentences"
      ],
      "metadata": {
        "id": "_jSBhQfk0LQ9"
      }
    },
    {
      "cell_type": "code",
      "source": [
        "df    = df.withColumn(\"Clean_sentence\",lower(regexp_replace(\"sentence\", r'[^a-zA-Z\\s]', \"\")))\n",
        "df    = df.withColumn(\"Clean_sentence\",trim(lower(regexp_replace(\"Clean_sentence\", \"[\\s+]\", \" \"))))\n",
        "df.select(\"Clean_sentence\").show(truncate=80)"
      ],
      "metadata": {
        "colab": {
          "base_uri": "https://localhost:8080/"
        },
        "id": "yQuVO32x0KFC",
        "outputId": "c1c0ded6-549b-4d33-9b8b-6a949d8566c5"
      },
      "execution_count": 7,
      "outputs": [
        {
          "output_type": "stream",
          "name": "stdout",
          "text": [
            "+--------------------------------------------------------------------------------+\n",
            "|                                                                  Clean_sentence|\n",
            "+--------------------------------------------------------------------------------+\n",
            "|the international criminal court issued arrest warrants on thursday for israe...|\n",
            "|the announcement came as health officials in the gaza strip said the death to...|\n",
            "|the warrant marked the first time that a sitting leader of a major western al...|\n",
            "|the icc panel said there were reasonable grounds to believe that both netanya...|\n",
            "|israels war has caused heavy destruction across gaza decimated parts of the t...|\n",
            "|        million people from their homes leaving most dependent on aid to survive|\n",
            "|israel launched its war in gaza after hamasled militants stormed into souther...|\n",
            "|                     killing some  people mostly civilians and abducting another|\n",
            "|around  hostages are still inside gaza at least a third of whom are believed ...|\n",
            "|heres the latest  un official warns that increasing airstrikes in syria parti...|\n",
            "|                                                                               n|\n",
            "|                                                       deputy special envoy says|\n",
            "|                                                                    at the the u|\n",
            "|                                                                               n|\n",
            "|security council on thursday najat rochdi urged all countries and parties wit...|\n",
            "|in the current escalating climate rochdi said once again israeli airstrikes o...|\n",
            "|he pointed to wednesdays strike near palmyra that killed dozens which was lik...|\n",
            "|israel says its targets are linked to militants from lebanons hezbollah or pa...|\n",
            "|he said israeli strikes on residential areas in the capital damascus as well ...|\n",
            "|                                                              edem wosornu the u|\n",
            "+--------------------------------------------------------------------------------+\n",
            "only showing top 20 rows\n",
            "\n"
          ]
        }
      ]
    },
    {
      "cell_type": "markdown",
      "source": [
        "Split the clean sentences in tokens"
      ],
      "metadata": {
        "id": "Z-IrFwmqsOaB"
      }
    },
    {
      "cell_type": "code",
      "source": [
        "df     = df.withColumn(\"Tokens\", split(\"Clean_sentence\", \" \"))\n",
        "df.select(\"Clean_sentence\", \"Tokens\").show(truncate=100)"
      ],
      "metadata": {
        "colab": {
          "base_uri": "https://localhost:8080/"
        },
        "id": "IF7Xf2gssNLo",
        "outputId": "ac2d70e9-229b-4f9c-f40d-aee9385a8da5"
      },
      "execution_count": 8,
      "outputs": [
        {
          "output_type": "stream",
          "name": "stdout",
          "text": [
            "+----------------------------------------------------------------------------------------------------+----------------------------------------------------------------------------------------------------+\n",
            "|                                                                                      Clean_sentence|                                                                                              Tokens|\n",
            "+----------------------------------------------------------------------------------------------------+----------------------------------------------------------------------------------------------------+\n",
            "|the international criminal court issued arrest warrants on thursday for israeli prime minister be...|[the, international, criminal, court, issued, arrest, warrants, on, thursday, for, israeli, prime...|\n",
            "|the announcement came as health officials in the gaza strip said the death toll from the monthold...|[the, announcement, came, as, health, officials, in, the, gaza, strip, said, the, death, toll, fr...|\n",
            "|the warrant marked the first time that a sitting leader of a major western ally has been accused ...|[the, warrant, marked, the, first, time, that, a, sitting, leader, of, a, major, western, ally, h...|\n",
            "|the icc panel said there were reasonable grounds to believe that both netanyahu and his exdefense...|[the, icc, panel, said, there, were, reasonable, grounds, to, believe, that, both, netanyahu, and...|\n",
            "|israels war has caused heavy destruction across gaza decimated parts of the territory and driven ...|[israels, war, has, caused, heavy, destruction, across, gaza, decimated, parts, of, the, territor...|\n",
            "|                            million people from their homes leaving most dependent on aid to survive|               [million, people, from, their, homes, leaving, most, dependent, on, aid, to, survive]|\n",
            "|        israel launched its war in gaza after hamasled militants stormed into southern israel on oct|[israel, launched, its, war, in, gaza, after, hamasled, militants, stormed, into, southern, israe...|\n",
            "|                                         killing some  people mostly civilians and abducting another|                               [killing, some, , people, mostly, civilians, and, abducting, another]|\n",
            "|             around  hostages are still inside gaza at least a third of whom are believed to be dead|[around, , hostages, are, still, inside, gaza, at, least, a, third, of, whom, are, believed, to, ...|\n",
            "|heres the latest  un official warns that increasing airstrikes in syria particularly by israel ar...|[heres, the, latest, , un, official, warns, that, increasing, airstrikes, in, syria, particularly...|\n",
            "|                                                                                                   n|                                                                                                 [n]|\n",
            "|                                                                           deputy special envoy says|                                                                      [deputy, special, envoy, says]|\n",
            "|                                                                                        at the the u|                                                                                   [at, the, the, u]|\n",
            "|                                                                                                   n|                                                                                                 [n]|\n",
            "|security council on thursday najat rochdi urged all countries and parties with influence to preve...|[security, council, on, thursday, najat, rochdi, urged, all, countries, and, parties, with, influ...|\n",
            "|in the current escalating climate rochdi said once again israeli airstrikes on syria have increas...|[in, the, current, escalating, climate, rochdi, said, once, again, israeli, airstrikes, on, syria...|\n",
            "|he pointed to wednesdays strike near palmyra that killed dozens which was likely the deadliest is...|[he, pointed, to, wednesdays, strike, near, palmyra, that, killed, dozens, which, was, likely, th...|\n",
            "|israel says its targets are linked to militants from lebanons hezbollah or palestinian islamic ji...|[israel, says, its, targets, are, linked, to, militants, from, lebanons, hezbollah, or, palestini...|\n",
            "|he said israeli strikes on residential areas in the capital damascus as well as on bridges roads ...|[he, said, israeli, strikes, on, residential, areas, in, the, capital, damascus, as, well, as, on...|\n",
            "|                                                                                  edem wosornu the u|                                                                             [edem, wosornu, the, u]|\n",
            "+----------------------------------------------------------------------------------------------------+----------------------------------------------------------------------------------------------------+\n",
            "only showing top 20 rows\n",
            "\n"
          ]
        }
      ]
    },
    {
      "cell_type": "markdown",
      "source": [
        "## 0.6. Word Frequency Calculation"
      ],
      "metadata": {
        "id": "2vRrsT3urasV"
      }
    },
    {
      "cell_type": "code",
      "source": [
        "df     = df.withColumn(\"Word_Freq\", size(\"Tokens\"))\n",
        "df.select(\"Clean_sentence\", \"Word_Freq\").show(truncate=100)"
      ],
      "metadata": {
        "id": "TFjUyy7Op-R8",
        "colab": {
          "base_uri": "https://localhost:8080/"
        },
        "outputId": "e0bff4e9-6c26-4290-8714-80f05d675430"
      },
      "execution_count": 9,
      "outputs": [
        {
          "output_type": "stream",
          "name": "stdout",
          "text": [
            "+----------------------------------------------------------------------------------------------------+---------+\n",
            "|                                                                                      Clean_sentence|Word_Freq|\n",
            "+----------------------------------------------------------------------------------------------------+---------+\n",
            "|the international criminal court issued arrest warrants on thursday for israeli prime minister be...|       33|\n",
            "|the announcement came as health officials in the gaza strip said the death toll from the monthold...|       24|\n",
            "|the warrant marked the first time that a sitting leader of a major western ally has been accused ...|       31|\n",
            "|the icc panel said there were reasonable grounds to believe that both netanyahu and his exdefense...|       37|\n",
            "|israels war has caused heavy destruction across gaza decimated parts of the territory and driven ...|       20|\n",
            "|                            million people from their homes leaving most dependent on aid to survive|       12|\n",
            "|        israel launched its war in gaza after hamasled militants stormed into southern israel on oct|       15|\n",
            "|                                         killing some  people mostly civilians and abducting another|        9|\n",
            "|             around  hostages are still inside gaza at least a third of whom are believed to be dead|       18|\n",
            "|heres the latest  un official warns that increasing airstrikes in syria particularly by israel ar...|       49|\n",
            "|                                                                                                   n|        1|\n",
            "|                                                                           deputy special envoy says|        4|\n",
            "|                                                                                        at the the u|        4|\n",
            "|                                                                                                   n|        1|\n",
            "|security council on thursday najat rochdi urged all countries and parties with influence to preve...|       23|\n",
            "|in the current escalating climate rochdi said once again israeli airstrikes on syria have increas...|       21|\n",
            "|he pointed to wednesdays strike near palmyra that killed dozens which was likely the deadliest is...|       21|\n",
            "|israel says its targets are linked to militants from lebanons hezbollah or palestinian islamic ji...|       23|\n",
            "|he said israeli strikes on residential areas in the capital damascus as well as on bridges roads ...|       35|\n",
            "|                                                                                  edem wosornu the u|        4|\n",
            "+----------------------------------------------------------------------------------------------------+---------+\n",
            "only showing top 20 rows\n",
            "\n"
          ]
        }
      ]
    },
    {
      "cell_type": "markdown",
      "source": [
        "## 0.7. Selecting sentences having more than average word frequency and Sorting in decreasing order of word frequency"
      ],
      "metadata": {
        "id": "OEbCYmXGzdSj"
      }
    },
    {
      "cell_type": "code",
      "source": [
        "average_word_freq = df.agg({\"Word_Freq\": \"avg\"}).collect()[0][0]\n",
        "summary_df        = df.filter(df.Word_Freq >= average_word_freq).orderBy(desc(\"Word_Freq\"))\n",
        "summary_df.select(\"Clean_sentence\", \"Word_Freq\").show(truncate=100)"
      ],
      "metadata": {
        "id": "5epg018lqDZ9",
        "colab": {
          "base_uri": "https://localhost:8080/"
        },
        "outputId": "4e8b6843-456d-430f-a784-9d41ea5b6486"
      },
      "execution_count": 10,
      "outputs": [
        {
          "output_type": "stream",
          "name": "stdout",
          "text": [
            "+----------------------------------------------------------------------------------------------------+---------+\n",
            "|                                                                                      Clean_sentence|Word_Freq|\n",
            "+----------------------------------------------------------------------------------------------------+---------+\n",
            "|the eu is wracked by members divisions over how peace should come about in the middle east  inter...|       82|\n",
            "|eu foreign policy chief says icc arrest warrants are binding on all bloc members  the european un...|       68|\n",
            "|the leaked documents are said to have formed the basis of a widely discredited article in the lon...|       61|\n",
            "|hamas welcomes warrants against netanyahu and gallant  hamas has welcomed the decision by the int...|       55|\n",
            "|turkeys ruling party welcomes warrant against netanyahu  ankara  turkish president recep tayyip e...|       51|\n",
            "|heres the latest  un official warns that increasing airstrikes in syria particularly by israel ar...|       49|\n",
            "|israeli prosecutors charge a former netanyahu aid of leaking classified documents  jerusalem  isr...|       47|\n",
            "|the conflict in the middle east is taking place on the eus doorstep in an area of vital interest ...|       47|\n",
            "|israeli strike in gaza kills  people including  kids playing outside  khan younis gaza strip  the...|       46|\n",
            "|cyprus says eu must no longer stand by as an observer to the mideast  nicosia  the president of c...|       44|\n",
            "|israeli military opens probe into death of a man in hezbollah ambush  jerusalem  the israeli mili...|       43|\n",
            "|as of thursday the health ministry has recorded at least  people killed and  wounded in lebanon d...|       42|\n",
            "|dutch minister says his country would arrest netanyahu if he visits  dutch foreign minister caspa...|       41|\n",
            "|at least  killed by israeli strikes across lebanon state media reports  beirut  at least  people ...|       40|\n",
            "|rocket from lebanon kills  wounds  others in northern israel  jerusalem  a rocket fired from leba...|       39|\n",
            "|in a post on x he said the international court has chosen the side of terror and evil over democr...|       38|\n",
            "|hamas called on all nations to cooperate with the court in bringing the zionist war criminals net...|       38|\n",
            "|the icc panel said there were reasonable grounds to believe that both netanyahu and his exdefense...|       37|\n",
            "|in france a spokesman for the foreign ministry said he supported the international criminal court...|       37|\n",
            "|israeli president says arrest warrants signal dark day for justice  jerusalem  israels mostly cer...|       37|\n",
            "+----------------------------------------------------------------------------------------------------+---------+\n",
            "only showing top 20 rows\n",
            "\n"
          ]
        }
      ]
    },
    {
      "cell_type": "markdown",
      "source": [
        "# 1. Identify Unique Words"
      ],
      "metadata": {
        "id": "_2CcfqClZv0T"
      }
    },
    {
      "cell_type": "code",
      "source": [
        "df     = df.withColumn(\"Word_Unique_Count\", size(array_distinct(\"Tokens\")))\n",
        "df.select(\"Clean_sentence\", \"Word_Unique_Count\").show(truncate=100)"
      ],
      "metadata": {
        "colab": {
          "base_uri": "https://localhost:8080/"
        },
        "id": "wgD6gzS1Zx0I",
        "outputId": "bd519310-a8de-4834-d0d3-228b48cdc1bf"
      },
      "execution_count": 11,
      "outputs": [
        {
          "output_type": "stream",
          "name": "stdout",
          "text": [
            "+----------------------------------------------------------------------------------------------------+-----------------+\n",
            "|                                                                                      Clean_sentence|Word_Unique_Count|\n",
            "+----------------------------------------------------------------------------------------------------+-----------------+\n",
            "|the international criminal court issued arrest warrants on thursday for israeli prime minister be...|               30|\n",
            "|the announcement came as health officials in the gaza strip said the death toll from the monthold...|               21|\n",
            "|the warrant marked the first time that a sitting leader of a major western ally has been accused ...|               25|\n",
            "|the icc panel said there were reasonable grounds to believe that both netanyahu and his exdefense...|               32|\n",
            "|israels war has caused heavy destruction across gaza decimated parts of the territory and driven ...|               18|\n",
            "|                            million people from their homes leaving most dependent on aid to survive|               12|\n",
            "|        israel launched its war in gaza after hamasled militants stormed into southern israel on oct|               14|\n",
            "|                                         killing some  people mostly civilians and abducting another|                9|\n",
            "|             around  hostages are still inside gaza at least a third of whom are believed to be dead|               17|\n",
            "|heres the latest  un official warns that increasing airstrikes in syria particularly by israel ar...|               40|\n",
            "|                                                                                                   n|                1|\n",
            "|                                                                           deputy special envoy says|                4|\n",
            "|                                                                                        at the the u|                3|\n",
            "|                                                                                                   n|                1|\n",
            "|security council on thursday najat rochdi urged all countries and parties with influence to preve...|               23|\n",
            "|in the current escalating climate rochdi said once again israeli airstrikes on syria have increas...|               20|\n",
            "|he pointed to wednesdays strike near palmyra that killed dozens which was likely the deadliest is...|               19|\n",
            "|israel says its targets are linked to militants from lebanons hezbollah or palestinian islamic ji...|               23|\n",
            "|he said israeli strikes on residential areas in the capital damascus as well as on bridges roads ...|               29|\n",
            "|                                                                                  edem wosornu the u|                4|\n",
            "+----------------------------------------------------------------------------------------------------+-----------------+\n",
            "only showing top 20 rows\n",
            "\n"
          ]
        }
      ]
    },
    {
      "cell_type": "markdown",
      "source": [
        "# 2. Find Sentences Containing a Specific Word"
      ],
      "metadata": {
        "id": "oGBZ-oQZbPgQ"
      }
    },
    {
      "cell_type": "code",
      "source": [
        "summary_df = df.filter(df.Clean_sentence.ilike('%Israeli%'))\n",
        "summary_df.select(\"Clean_sentence\", \"Word_Unique_Count\").show(truncate=100)"
      ],
      "metadata": {
        "colab": {
          "base_uri": "https://localhost:8080/"
        },
        "id": "6hHijuDDbvF8",
        "outputId": "c36538e8-9f2b-40f9-8c63-a89663ffcf0e"
      },
      "execution_count": 12,
      "outputs": [
        {
          "output_type": "stream",
          "name": "stdout",
          "text": [
            "+----------------------------------------------------------------------------------------------------+-----------------+\n",
            "|                                                                                      Clean_sentence|Word_Unique_Count|\n",
            "+----------------------------------------------------------------------------------------------------+-----------------+\n",
            "|the international criminal court issued arrest warrants on thursday for israeli prime minister be...|               30|\n",
            "|in the current escalating climate rochdi said once again israeli airstrikes on syria have increas...|               20|\n",
            "|he pointed to wednesdays strike near palmyra that killed dozens which was likely the deadliest is...|               19|\n",
            "|he said israeli strikes on residential areas in the capital damascus as well as on bridges roads ...|               29|\n",
            "|israeli strikes in lebanon kill more than  people nationwide  beirut  israeli strikes killed at l...|               26|\n",
            "|in eastern lebanon intensified israeli airstrikes killed  people in  different towns in baalbek p...|               16|\n",
            "|in southern lebanon five people were killed by an israeli strike in tyre province and seven other...|               22|\n",
            "|muhannad hadi said in a statement thursday that israeli authorities have been banning commercial ...|               33|\n",
            "|n has blamed israeli military restrictions along with widespread lawlessness that has led to thef...|               17|\n",
            "|biden administration rejects icc arrest warrants for top israeli leaders  washington  the white h...|               30|\n",
            "|the biden administration has increased its warnings and appeals to israeli prime minister benjami...|               27|\n",
            "|israeli strike in gaza kills  people including  kids playing outside  khan younis gaza strip  the...|               33|\n",
            "|the israeli military did not comment on the specific strike saying it follows international law a...|               20|\n",
            "|hours after the ministry announced the latest toll the international criminal court issued arrest...|               27|\n",
            "|rights group applauds icc arrest warrants  new york  human rights watch applauded the internation...|               24|\n",
            "|israeli prosecutors charge a former netanyahu aid of leaking classified documents  jerusalem  isr...|               34|\n",
            "|the leaks came at a time of public uproar over the deaths of six hostages who were killed by thei...|               25|\n",
            "|the indictment identified two other netanyahu aides as being connected to the scheme but only fel...|               25|\n",
            "|                      israeli media say if convicted feldstein could potentially face life in prison|               12|\n",
            "|israeli military opens probe into death of a man in hezbollah ambush  jerusalem  the israeli mili...|               28|\n",
            "+----------------------------------------------------------------------------------------------------+-----------------+\n",
            "only showing top 20 rows\n",
            "\n"
          ]
        }
      ]
    },
    {
      "cell_type": "markdown",
      "source": [
        "# 3. Compute Average Sentence Length"
      ],
      "metadata": {
        "id": "OnHkDDuQbV0-"
      }
    },
    {
      "cell_type": "code",
      "source": [
        "average_word_freq = df.agg({\"Word_Freq\": \"avg\"}).collect()[0][0]\n",
        "print(\"Average Sentence Length is \", average_word_freq)"
      ],
      "metadata": {
        "colab": {
          "base_uri": "https://localhost:8080/"
        },
        "id": "b0nHnSt0cF0A",
        "outputId": "2c0146a5-abf4-4212-8ecb-5232849d2b13"
      },
      "execution_count": 13,
      "outputs": [
        {
          "output_type": "stream",
          "name": "stdout",
          "text": [
            "Average Sentence Length is  20.1\n"
          ]
        }
      ]
    },
    {
      "cell_type": "markdown",
      "source": [
        "# 4. Find the Longest Sentence"
      ],
      "metadata": {
        "id": "3M_E03FwbViN"
      }
    },
    {
      "cell_type": "code",
      "source": [
        "summary_df        = df.orderBy(desc(\"Word_Freq\"))\n",
        "summary_df.limit(1).select(\"Clean_sentence\", \"Word_Freq\").show(truncate=100)"
      ],
      "metadata": {
        "colab": {
          "base_uri": "https://localhost:8080/"
        },
        "id": "1ocmbwdNdt0n",
        "outputId": "11f186e8-6edd-46dc-d678-f84cb7b53318"
      },
      "execution_count": 14,
      "outputs": [
        {
          "output_type": "stream",
          "name": "stdout",
          "text": [
            "+----------------------------------------------------------------------------------------------------+---------+\n",
            "|                                                                                      Clean_sentence|Word_Freq|\n",
            "+----------------------------------------------------------------------------------------------------+---------+\n",
            "|the eu is wracked by members divisions over how peace should come about in the middle east  inter...|       82|\n",
            "+----------------------------------------------------------------------------------------------------+---------+\n",
            "\n"
          ]
        }
      ]
    },
    {
      "cell_type": "markdown",
      "source": [
        "# 5. Filter Short Sentences"
      ],
      "metadata": {
        "id": "ip4WcEPKbVUH"
      }
    },
    {
      "cell_type": "code",
      "source": [
        "summary_df        = df.filter(df.Word_Freq < 5).orderBy(\"Word_Freq\")\n",
        "summary_df.select(\"Clean_sentence\", \"Word_Freq\").show(truncate=100)"
      ],
      "metadata": {
        "colab": {
          "base_uri": "https://localhost:8080/"
        },
        "id": "v__4tQsHCx0u",
        "outputId": "d3c4806d-4a60-4916-d907-954be70c0b78"
      },
      "execution_count": 15,
      "outputs": [
        {
          "output_type": "stream",
          "name": "stdout",
          "text": [
            "+--------------+---------+\n",
            "|Clean_sentence|Word_Freq|\n",
            "+--------------+---------+\n",
            "|             n|        1|\n",
            "|             n|        1|\n",
            "|             n|        1|\n",
            "|             n|        1|\n",
            "|             n|        1|\n",
            "|             n|        1|\n",
            "|             n|        1|\n",
            "|             s|        1|\n",
            "|             u|        1|\n",
            "|             s|        1|\n",
            "|           gen|        1|\n",
            "|           gen|        1|\n",
            "|             n|        1|\n",
            "|              |        1|\n",
            "|              |        1|\n",
            "|              |        1|\n",
            "|              |        1|\n",
            "|             u|        1|\n",
            "|             s|        1|\n",
            "|              |        1|\n",
            "+--------------+---------+\n",
            "only showing top 20 rows\n",
            "\n"
          ]
        }
      ]
    },
    {
      "cell_type": "markdown",
      "source": [
        "# 6. Word Co-occurrence"
      ],
      "metadata": {
        "id": "6BJNB0glbVAE"
      }
    },
    {
      "cell_type": "code",
      "source": [
        "Word_List   = df.select(\"Tokens\").rdd.flatMap(lambda x: x).collect()\n",
        "\n",
        "Word_Rdd    = spark.sparkContext.parallelize(Word_List)\n",
        "result_rdd  = Word_Rdd.flatMap(lambda words: [(words[i], words[i+1]) for i in range(len(words) - 1)])\n",
        "counts_rdd  = result_rdd.map(lambda x: (x, 1)).reduceByKey(lambda a, b: a + b)\n",
        "\n",
        "counts_df   = counts_rdd.toDF([\"Value\", \"Count\"])\n",
        "counts_df.orderBy(desc(\"count\")).show(truncate=False)"
      ],
      "metadata": {
        "colab": {
          "base_uri": "https://localhost:8080/"
        },
        "id": "_8NrZcWzOPtU",
        "outputId": "e1b9c6ab-421a-49d0-c149-da0d59c76b8f"
      },
      "execution_count": 16,
      "outputs": [
        {
          "output_type": "stream",
          "name": "stdout",
          "text": [
            "+-------------------------+-----+\n",
            "|Value                    |Count|\n",
            "+-------------------------+-----+\n",
            "|{in, the}                |28   |\n",
            "|{of, the}                |15   |\n",
            "|{the, international}     |14   |\n",
            "|{, people}               |14   |\n",
            "|{arrest, warrants}       |14   |\n",
            "|{international, criminal}|12   |\n",
            "|{health, ministry}       |11   |\n",
            "|{benjamin, netanyahu}    |10   |\n",
            "|{prime, minister}        |10   |\n",
            "|{netanyahu, and}         |10   |\n",
            "|{, the}                  |10   |\n",
            "|{and, the}               |10   |\n",
            "|{to, the}                |10   |\n",
            "|{minister, benjamin}     |9    |\n",
            "|{the, war}               |9    |\n",
            "|{in, gaza}               |9    |\n",
            "|{have, been}             |9    |\n",
            "|{criminal, court}        |8    |\n",
            "|{on, thursday}           |8    |\n",
            "|{the, gaza}              |8    |\n",
            "+-------------------------+-----+\n",
            "only showing top 20 rows\n",
            "\n"
          ]
        }
      ]
    },
    {
      "cell_type": "markdown",
      "source": [
        "# 7. Generate Bigrams"
      ],
      "metadata": {
        "id": "6uPeGoIfbUxe"
      }
    },
    {
      "cell_type": "code",
      "source": [
        "@udf(returnType=ArrayType(StringType()))\n",
        "def bigrams(words):\n",
        "    return [\" \".join(pair) for pair in zip(words[:-1], words[1:])]\n",
        "\n",
        "df = df.withColumn(\"bigrams\", bigrams(\"Tokens\"))\n",
        "df.select(\"Clean_sentence\", \"bigrams\").show(truncate=80)"
      ],
      "metadata": {
        "colab": {
          "base_uri": "https://localhost:8080/"
        },
        "id": "tF1ZjKrJfaOp",
        "outputId": "324050c3-f542-4b4a-f7f0-6244ed04a041"
      },
      "execution_count": 17,
      "outputs": [
        {
          "output_type": "stream",
          "name": "stdout",
          "text": [
            "+--------------------------------------------------------------------------------+--------------------------------------------------------------------------------+\n",
            "|                                                                  Clean_sentence|                                                                         bigrams|\n",
            "+--------------------------------------------------------------------------------+--------------------------------------------------------------------------------+\n",
            "|the international criminal court issued arrest warrants on thursday for israe...|[the international, international criminal, criminal court, court issued, iss...|\n",
            "|the announcement came as health officials in the gaza strip said the death to...|[the announcement, announcement came, came as, as health, health officials, o...|\n",
            "|the warrant marked the first time that a sitting leader of a major western al...|[the warrant, warrant marked, marked the, the first, first time, time that, t...|\n",
            "|the icc panel said there were reasonable grounds to believe that both netanya...|[the icc, icc panel, panel said, said there, there were, were reasonable, rea...|\n",
            "|israels war has caused heavy destruction across gaza decimated parts of the t...|[israels war, war has, has caused, caused heavy, heavy destruction, destructi...|\n",
            "|        million people from their homes leaving most dependent on aid to survive|[million people, people from, from their, their homes, homes leaving, leaving...|\n",
            "|israel launched its war in gaza after hamasled militants stormed into souther...|[israel launched, launched its, its war, war in, in gaza, gaza after, after h...|\n",
            "|                     killing some  people mostly civilians and abducting another|[killing some, some ,  people, people mostly, mostly civilians, civilians and...|\n",
            "|around  hostages are still inside gaza at least a third of whom are believed ...|[around ,  hostages, hostages are, are still, still inside, inside gaza, gaza...|\n",
            "|heres the latest  un official warns that increasing airstrikes in syria parti...|[heres the, the latest, latest ,  un, un official, official warns, warns that...|\n",
            "|                                                                               n|                                                                              []|\n",
            "|                                                       deputy special envoy says|                                     [deputy special, special envoy, envoy says]|\n",
            "|                                                                    at the the u|                                                        [at the, the the, the u]|\n",
            "|                                                                               n|                                                                              []|\n",
            "|security council on thursday najat rochdi urged all countries and parties wit...|[security council, council on, on thursday, thursday najat, najat rochdi, roc...|\n",
            "|in the current escalating climate rochdi said once again israeli airstrikes o...|[in the, the current, current escalating, escalating climate, climate rochdi,...|\n",
            "|he pointed to wednesdays strike near palmyra that killed dozens which was lik...|[he pointed, pointed to, to wednesdays, wednesdays strike, strike near, near ...|\n",
            "|israel says its targets are linked to militants from lebanons hezbollah or pa...|[israel says, says its, its targets, targets are, are linked, linked to, to m...|\n",
            "|he said israeli strikes on residential areas in the capital damascus as well ...|[he said, said israeli, israeli strikes, strikes on, on residential, resident...|\n",
            "|                                                              edem wosornu the u|                                              [edem wosornu, wosornu the, the u]|\n",
            "+--------------------------------------------------------------------------------+--------------------------------------------------------------------------------+\n",
            "only showing top 20 rows\n",
            "\n"
          ]
        }
      ]
    },
    {
      "cell_type": "markdown",
      "source": [
        "# 8. Remove Stopwords"
      ],
      "metadata": {
        "id": "Zw99iFHJbUT4"
      }
    },
    {
      "cell_type": "code",
      "source": [
        "remover         = StopWordsRemover(inputCol=\"Tokens\", outputCol=\"Clean_sentence_No_Stopwords\")\n",
        "df              = remover.transform(df)\n",
        "df.select(\"Clean_sentence\", \"Clean_sentence_No_Stopwords\").show(truncate=100)"
      ],
      "metadata": {
        "colab": {
          "base_uri": "https://localhost:8080/"
        },
        "id": "f5avjk3Anl_i",
        "outputId": "e96e7d12-3ae6-4506-f6a5-0e90dba71b0c"
      },
      "execution_count": 18,
      "outputs": [
        {
          "output_type": "stream",
          "name": "stdout",
          "text": [
            "+----------------------------------------------------------------------------------------------------+----------------------------------------------------------------------------------------------------+\n",
            "|                                                                                      Clean_sentence|                                                                         Clean_sentence_No_Stopwords|\n",
            "+----------------------------------------------------------------------------------------------------+----------------------------------------------------------------------------------------------------+\n",
            "|the international criminal court issued arrest warrants on thursday for israeli prime minister be...|[international, criminal, court, issued, arrest, warrants, thursday, israeli, prime, minister, be...|\n",
            "|the announcement came as health officials in the gaza strip said the death toll from the monthold...|[announcement, came, health, officials, gaza, strip, said, death, toll, monthold, war, israel, ha...|\n",
            "|the warrant marked the first time that a sitting leader of a major western ally has been accused ...|[warrant, marked, first, time, sitting, leader, major, western, ally, accused, war, crimes, crime...|\n",
            "|the icc panel said there were reasonable grounds to believe that both netanyahu and his exdefense...|[icc, panel, said, reasonable, grounds, believe, netanyahu, exdefense, minister, bear, responsibi...|\n",
            "|israels war has caused heavy destruction across gaza decimated parts of the territory and driven ...|[israels, war, caused, heavy, destruction, across, gaza, decimated, parts, territory, driven, alm...|\n",
            "|                            million people from their homes leaving most dependent on aid to survive|                                          [million, people, homes, leaving, dependent, aid, survive]|\n",
            "|        israel launched its war in gaza after hamasled militants stormed into southern israel on oct|                  [israel, launched, war, gaza, hamasled, militants, stormed, southern, israel, oct]|\n",
            "|                                         killing some  people mostly civilians and abducting another|                                          [killing, , people, mostly, civilians, abducting, another]|\n",
            "|             around  hostages are still inside gaza at least a third of whom are believed to be dead|                             [around, , hostages, still, inside, gaza, least, third, believed, dead]|\n",
            "|heres the latest  un official warns that increasing airstrikes in syria particularly by israel ar...|[heres, latest, , un, official, warns, increasing, airstrikes, syria, particularly, israel, ratch...|\n",
            "|                                                                                                   n|                                                                                                 [n]|\n",
            "|                                                                           deputy special envoy says|                                                                      [deputy, special, envoy, says]|\n",
            "|                                                                                        at the the u|                                                                                                 [u]|\n",
            "|                                                                                                   n|                                                                                                 [n]|\n",
            "|security council on thursday najat rochdi urged all countries and parties with influence to preve...|[security, council, thursday, najat, rochdi, urged, countries, parties, influence, prevent, syria...|\n",
            "|in the current escalating climate rochdi said once again israeli airstrikes on syria have increas...|[current, escalating, climate, rochdi, said, israeli, airstrikes, syria, increased, significantly...|\n",
            "|he pointed to wednesdays strike near palmyra that killed dozens which was likely the deadliest is...|[pointed, wednesdays, strike, near, palmyra, killed, dozens, likely, deadliest, israeli, strike, ...|\n",
            "|israel says its targets are linked to militants from lebanons hezbollah or palestinian islamic ji...|[israel, says, targets, linked, militants, lebanons, hezbollah, palestinian, islamic, jihad, roch...|\n",
            "|he said israeli strikes on residential areas in the capital damascus as well as on bridges roads ...|[said, israeli, strikes, residential, areas, capital, damascus, well, bridges, roads, border, cro...|\n",
            "|                                                                                  edem wosornu the u|                                                                                  [edem, wosornu, u]|\n",
            "+----------------------------------------------------------------------------------------------------+----------------------------------------------------------------------------------------------------+\n",
            "only showing top 20 rows\n",
            "\n"
          ]
        }
      ]
    },
    {
      "cell_type": "markdown",
      "source": [
        "# Sentence wise summary"
      ],
      "metadata": {
        "id": "fHDzmZHFztWw"
      }
    },
    {
      "cell_type": "code",
      "source": [
        "summarizer = pipeline(\"summarization\", model=\"facebook/bart-large-cnn\")\n",
        "\n",
        "sentences  = [row[\"Clean_sentence\"] for row in df.collect()]\n",
        "for sentence in sentences:\n",
        "    input_length = len(sentence.split())\n",
        "    if input_length >=10:\n",
        "        print(\"******************************************************************************************************\")\n",
        "        summary = summarizer(sentence, max_length=min(50, input_length), min_length=10, do_sample=False)\n",
        "        print(f\"Original: {sentence}\")\n",
        "        print(f\"Summary: {summary[0]['summary_text']}\")"
      ],
      "metadata": {
        "id": "lwh9nAR1qHJ0",
        "colab": {
          "base_uri": "https://localhost:8080/"
        },
        "outputId": "d3d35c52-0057-46c5-8419-1df4f27f13a2"
      },
      "execution_count": 19,
      "outputs": [
        {
          "output_type": "stream",
          "name": "stderr",
          "text": [
            "/usr/local/lib/python3.10/dist-packages/huggingface_hub/utils/_auth.py:94: UserWarning: \n",
            "The secret `HF_TOKEN` does not exist in your Colab secrets.\n",
            "To authenticate with the Hugging Face Hub, create a token in your settings tab (https://huggingface.co/settings/tokens), set it as secret in your Google Colab and restart your session.\n",
            "You will be able to reuse this secret in all of your notebooks.\n",
            "Please note that authentication is recommended but still optional to access public models or datasets.\n",
            "  warnings.warn(\n"
          ]
        },
        {
          "output_type": "stream",
          "name": "stdout",
          "text": [
            "******************************************************************************************************\n",
            "Original: the international criminal court issued arrest warrants on thursday for israeli prime minister benjamin netanyahu his former defense minister and a hamas military leader accusing them of war crimes and crimes against humanity\n",
            "Summary: International criminal court issued arrest warrants on th Thursday for israeli prime minister benjamin netanyahu. Former defense minister and a hamas military leader accused\n",
            "******************************************************************************************************\n",
            "Original: the announcement came as health officials in the gaza strip said the death toll from the monthold war between israel and hamas has surpassed\n",
            "Summary: Health officials in the gaza strip said the death toll from the monthold war between israel and ham\n",
            "******************************************************************************************************\n",
            "Original: the warrant marked the first time that a sitting leader of a major western ally has been accused of war crimes and crimes against humanity by a global court of justice\n",
            "Summary: The warrant marked the first time that a sitting leader of a major western ally has been accused of war crimes.\n",
            "******************************************************************************************************\n",
            "Original: the icc panel said there were reasonable grounds to believe that both netanyahu and his exdefense minister bear responsibility for the war crime of starvation and the crimes against humanity of murder persecution and other inhumane acts\n",
            "Summary: The icc panel said there were reasonable grounds to believe that both netanyahu and his exdefense minister bear responsibility for the war crime of starvation.\n",
            "******************************************************************************************************\n",
            "Original: israels war has caused heavy destruction across gaza decimated parts of the territory and driven almost the entire population of\n",
            "Summary:  israels war has caused heavy destruction across gaza decimated parts of the territory\n",
            "******************************************************************************************************\n",
            "Original: million people from their homes leaving most dependent on aid to survive\n",
            "Summary:  of more than 1.5 million people\n",
            "******************************************************************************************************\n",
            "Original: israel launched its war in gaza after hamasled militants stormed into southern israel on oct\n",
            "Summary:  israel launched its war in gaza after hamasled\n",
            "******************************************************************************************************\n",
            "Original: around  hostages are still inside gaza at least a third of whom are believed to be dead\n",
            "Summary: Around  hostages are still inside gaza at least a third of whom\n",
            "******************************************************************************************************\n",
            "Original: heres the latest  un official warns that increasing airstrikes in syria particularly by israel are ratcheting up violence  united nations  syria is being battered by regional conflicts and increasing attacks within the country which will likely make  its most violent year since  the u\n",
            "Summary: Un official warns that increasing airstrikes in syria particularly by israel are ratcheting up violence. syria is being battered by regional conflicts and increasing attacks within the country.\n",
            "******************************************************************************************************\n",
            "Original: security council on thursday najat rochdi urged all countries and parties with influence to prevent syria being further swept into a broader conflagration\n",
            "Summary: Najat rochdi urged all countries and parties with influence to prevent syria being further swept\n",
            "******************************************************************************************************\n",
            "Original: in the current escalating climate rochdi said once again israeli airstrikes on syria have increased significantly both in frequency and scope\n",
            "Summary: In the current escalating climate rochdi said once again israeli airstrikes on syria\n",
            "******************************************************************************************************\n",
            "Original: he pointed to wednesdays strike near palmyra that killed dozens which was likely the deadliest israeli strike in syria to date\n",
            "Summary:  strike near palmyra on wednesdays killed dozens.\n",
            "******************************************************************************************************\n",
            "Original: israel says its targets are linked to militants from lebanons hezbollah or palestinian islamic jihad but rochdi said there have been civilian casualties\n",
            "Summary:  israel says its targets are linked to militants from lebanons hezbollah or palestinian is\n",
            "******************************************************************************************************\n",
            "Original: he said israeli strikes on residential areas in the capital damascus as well as on bridges roads and border crossings have further hindered civilians fleeing the war in lebanon and disrupted essential imports and exports\n",
            "Summary:  says israeli strikes on residential areas in the capital damascus have hindered civilians fleeing the war in lebanon.\n",
            "******************************************************************************************************\n",
            "Original: humanitarian offices operations director said that since late september  people have arrived in syria from lebanon an estimated twothirds of them syrians\n",
            "Summary: Since late september  people have arrived in syria from lebanon an estimated tw\n",
            "******************************************************************************************************\n",
            "Original: in parallel rochdi said the united states struck what it said were iranbacked militias in response to armed drone attacks on its bases in northeast syria\n",
            "Summary: In parallel rochdi said the united states struck what it said were iranbacked militias in response to armed drone\n",
            "******************************************************************************************************\n",
            "Original: he said northeast syria has also seen its most serious escalation during  from turkish airstrike against what ankara said were kurdish militant targets which resulted in civilian casualties\n",
            "Summary: Northeast syria has also seen its most serious escalation during  from turkish airstrike against what ankara said were k\n",
            "******************************************************************************************************\n",
            "Original: in rebelcontrolled northwest syria rochdi said there has been a worrying uptick in progovernment drone and artillery attacks alongside attacks involving the main insurgent group in the region hayat tahrir alsham\n",
            "Summary: There has been a worrying uptick in progovernment drone and artillery attacks alongside attacks involving the main insurgent group.\n",
            "******************************************************************************************************\n",
            "Original: najat said fighters from the islamic state extremist group have also been increasing attacks in the central desert region\n",
            "Summary: Najat said fighters from the islamic state extremist group have also been\n",
            "******************************************************************************************************\n",
            "Original: israeli strikes in lebanon kill more than  people nationwide  beirut  israeli strikes killed at least  people on thursday in towns and villages across lebanon according to the countrys health ministry\n",
            "Summary:  israeli strikes in lebanon kill more than  people nationwide. More than 1,000 people killed in towns and villages across\n",
            "******************************************************************************************************\n",
            "Original: in eastern lebanon intensified israeli airstrikes killed  people in  different towns in baalbek province the ministry said\n",
            "Summary:  israeli airstrikes killed  people in  different towns in baal\n",
            "******************************************************************************************************\n",
            "Original: rescuers were searching under the rubble of destroyed buildings said gov\n",
            "Summary: Rescuers are searching under the rubble\n",
            "******************************************************************************************************\n",
            "Original: bachir khodr calling it a very violent day in his province\n",
            "Summary:  bachir khodr calling it\n",
            "******************************************************************************************************\n",
            "Original: in southern lebanon five people were killed by an israeli strike in tyre province and seven others were killed by a strike in nabatiyeh province the health ministry said\n",
            "Summary: In southern lebanon five people were killed by an israeli strike in tyre province. In nabatiyeh province seven\n",
            "******************************************************************************************************\n",
            "Original: as of thursday the health ministry has recorded at least  people killed and  wounded in lebanon during the month war between hezbollah and israel with the majority of casualties taking place after israels escalation and ground offensive in late september\n",
            "Summary: As of thursday the health ministry has recorded at least  people killed and wounded in lebanon during the month war between hezbollah and israel. The majority of casualties taking place\n",
            "******************************************************************************************************\n",
            "Original: food deliveries across gaza are grinding to a halt un warns  united nations  the u\n",
            "Summary: Food deliveries across gaza are grinding to a halt un warns\n",
            "******************************************************************************************************\n",
            "Original: humanitarian chief for gaza is warning that the delivery of critical food water fuel and medical supplies is grinding to a halt throughout the territory and the survival of two million people hangs in the balance\n",
            "Summary:  humanitarian chief for gaza is warning that the delivery of critical food water fuel and medical supplies is grinding to a halt. The survival of two million people hangs in the\n",
            "******************************************************************************************************\n",
            "Original: muhannad hadi said in a statement thursday that israeli authorities have been banning commercial imports for more than six weeks and at the same time thefts from humanitarian convoys by armed individuals have surged\n",
            "Summary:  israeli authorities have been banning commercial imports for more than six weeks. At the same time thefts from humanitarian convoys by armed individuals have surged.\n",
            "******************************************************************************************************\n",
            "Original: trucks have been looted  times  including  such attacks since nov\n",
            "Summary:  trucks have been looted  times \n",
            "******************************************************************************************************\n",
            "Original: last week one driver was shot in the head and hospitalized along with another truck driver hadi said\n",
            "Summary: Last week one driver was shot in the head and hospitalized along with another truck\n",
            "******************************************************************************************************\n",
            "Original: and on saturday  trucks were looted in a single attack which saw the vehicles damaged or stolen\n",
            "Summary: Trucks were looted in a single attack which saw the vehicles damaged\n",
            "******************************************************************************************************\n",
            "Original: the gaza humanitarian coordinator said bakeries are closing because of lack of flour or fuel to operate generators\n",
            "Summary: Bakeries are closing because of lack of flour or fuel to operate generators\n",
            "******************************************************************************************************\n",
            "Original: palestinian civilians are struggling to survive under unlivable conditions amid relentless hostilities hadi said\n",
            "Summary: Palestinian civilians are struggling to survive under unlivable\n",
            "******************************************************************************************************\n",
            "Original: he demanded the immediate improvement of security and conditions throughout gaza to allow the safe and unimpeded delivery of humanitarian aid through lawful means\n",
            "Summary: He demanded the immediate improvement of security and conditions throughout gaza to allow the safe and unimpeded delivery\n",
            "******************************************************************************************************\n",
            "Original: israel says it puts no limit on the supplies permitted into gaza and it blames the u\n",
            "Summary:  israel says it puts no limit on the supplies permitted into gaza\n",
            "******************************************************************************************************\n",
            "Original: but israels official figures show the amount of aid it has let in has plunged since the beginning of october\n",
            "Summary:  israels official figures show the amount of aid it has let in has plunged since\n",
            "******************************************************************************************************\n",
            "Original: n has blamed israeli military restrictions along with widespread lawlessness that has led to theft of aid shipments\n",
            "Summary: N. has blamed israeli military restrictions along with widespread lawlessness.\n",
            "******************************************************************************************************\n",
            "Original: biden administration rejects icc arrest warrants for top israeli leaders  washington  the white house fundamentally rejects the international criminal courts decision to issue arrest warrants for senior israeli officials press secretary karine jeanpierre said thursday\n",
            "Summary: White House rejects international criminal courts decision to issue arrest warrants for senior israeli officials.\n",
            "******************************************************************************************************\n",
            "Original: she said the biden administration was deeply concerned by the prosecutors rush to seek arrest warrants and the troubling process errors that led to this decision\n",
            "Summary: The administration is deeply concerned by the prosecutors rush to seek arrest warrants and the troubling process errors that led to this decision\n",
            "******************************************************************************************************\n",
            "Original: the biden administration has increased its warnings and appeals to israeli prime minister benjamin netanyahu to do more to spare civilians in airstrikes and other attacks and to allow more aid to reach gaza\n",
            "Summary: The biden administration has increased its warnings and appeals to israeli prime minister benjamin netanyahu to do more to spare civilians in airstrikes.\n",
            "******************************************************************************************************\n",
            "Original: however a day biden administration deadline came and went earlier this month for israel to meet specific u\n",
            "Summary: Biden administration deadline came and went earlier this month for israel to meet\n",
            "******************************************************************************************************\n",
            "Original: targets to improve its treatment of palestinian civilians in gaza trapped in the war\n",
            "Summary: Palestinian civilians in gaza trapped in the war\n",
            "******************************************************************************************************\n",
            "Original: demands included that israel lift a neartotal ban on delivery of aid to hardhit north gaza for starving civilians there\n",
            "Summary: 's demands included that israel lift a neartotal ban on delivery of aid\n",
            "******************************************************************************************************\n",
            "Original: israeli strike in gaza kills  people including  kids playing outside  khan younis gaza strip  the three children were playing outside a cluster of tents housing displaced people in the gaza strip when an israeli airstrike killed them along with six other people\n",
            "Summary:  israeli strike in gaza kills  people including  kids playing outside  khan younis gaza strip. Three children were playing outside a cluster of tents housing displaced people.\n",
            "******************************************************************************************************\n",
            "Original: its become a grim neardaily ritual more than  months into the israelhamas war which local health authorities said thursday has killed over  palestinians\n",
            "Summary: Local health authorities said thursday has killed over  palestinians.\n",
            "******************************************************************************************************\n",
            "Original: israel carries out frequent strikes against what it says are militants hiding in civilian areas and women and children are nearly always among the dead\n",
            "Summary:  israel carries out frequent strikes against what it says are militants hiding in civilian areas. Women and children are nearly\n",
            "******************************************************************************************************\n",
            "Original: wednesdays strike killed hamza alqadi  his brother abdulaziz  and their sister laila  in a tent camp in the southern city of khan younis\n",
            "Summary: The strike killed hamza alqadi, his brother abdulaziz and their sister l\n",
            "******************************************************************************************************\n",
            "Original: areej alqadi their mother says they were playing outside when they were killed\n",
            "Summary:  areej alqadi their mother says they\n",
            "******************************************************************************************************\n",
            "Original: all thats left of them are their notebooks their books and a bloodstained jacket she said as she broke into tears\n",
            "Summary: All that is left is their notebooks their books and a bloodstained jacket she said.\n",
            "******************************************************************************************************\n",
            "Original: the israeli military did not comment on the specific strike saying it follows international law and tries to avoid harming civilians\n",
            "Summary: The israeli military did not comment on the specific strike saying it follows international law.\n",
            "******************************************************************************************************\n",
            "Original: gazas health ministry said thursday that  palestinians have been killed and  wounded since the start of the war which was ignited by hamas oct\n",
            "Summary: Palestinians have been killed and wounded since the start of the war which was ignited by hamas\n",
            "******************************************************************************************************\n",
            "Original: palestinian militants killed some  people that day mostly civilians and abducted around  people\n",
            "Summary: Palestinian militants killed some  people that day\n",
            "******************************************************************************************************\n",
            "Original: the health ministry does not say how many of those killed in gaza were fighters but says women and children make up more than half the fatalities\n",
            "Summary: The health ministry does not say how many of those killed in gaza were fighters but says women and children make up more\n",
            "******************************************************************************************************\n",
            "Original: israel which rarely comments on individual strikes says it has killed over  militants without providing evidence\n",
            "Summary:  israel which rarely comments on individual strikes says it has killed over\n",
            "******************************************************************************************************\n",
            "Original: hours after the ministry announced the latest toll the international criminal court issued arrest warrants against israeli prime minister benjamin netanyahu his former defense minister and a hamas military leader\n",
            "Summary: International criminal court issued arrest warrants against israeli prime minister benjamin netanyahu and his former defense minister.\n",
            "******************************************************************************************************\n",
            "Original: mahmoud bin hassan the childrens father said he buried them on thursday\n",
            "Summary:  mahmoud bin hassan the childrens\n",
            "******************************************************************************************************\n",
            "Original: he asked when the international community would take action to stop the war\n",
            "Summary: He asked when the international community would take action to\n",
            "******************************************************************************************************\n",
            "Original: when the entire palestinian population has been killed he said\n",
            "Summary: When the entire palestinian population\n",
            "******************************************************************************************************\n",
            "Original: rights group applauds icc arrest warrants  new york  human rights watch applauded the international criminal courts arrest warrants issued thursday against both israeli and hamas officials\n",
            "Summary: Human rights watch applauds international criminal courts arrest warrants issued against both israeli and hamas officials.\n",
            "******************************************************************************************************\n",
            "Original: the warrants break through the perception that certain individuals are beyond the reach of the law the associate international justice director at human rights watch balkees jarrah said in a statement\n",
            "Summary: The warrants break through the perception that certain individuals are beyond the reach of the law, says human rights watch balkees jarrah.\n",
            "******************************************************************************************************\n",
            "Original: the new yorkbased rights group earlier this month released a report saying israel has committed war crimes and crimes against humanity in the gaza strip including massive forced displacements that amount to ethnic cleansing\n",
            "Summary: Rights group says Israel has committed war crimes and crimes against humanity in the gaza strip.\n",
            "******************************************************************************************************\n",
            "Original: israeli prosecutors charge a former netanyahu aid of leaking classified documents  jerusalem  israeli prosecutors have charged a former aide to prime minister benjamin netanyahu with leaking classified documents to international media apparently to protect the israeli leader from criticism as a hostage deal was collapsing\n",
            "Summary:  israeli prosecutors charge a former netanyahu aid of leaking classified documents. A former aide to prime minister benjamin netanyahu has been charged with leaking documents to international media.\n",
            "******************************************************************************************************\n",
            "Original: eli feldstein a former media adviser to netanyahu was charged thursday with leaking classified information with the intent of harming state security and obstruction of justice\n",
            "Summary:  eli feldstein a former media adviser to netanyahu was charged thursday with leaking classified information with the intent\n",
            "******************************************************************************************************\n",
            "Original: the leaked documents are said to have formed the basis of a widely discredited article in the londonbased jewish chronicle  which was later withdrawn  suggesting hamas planned to spirit hostages out of gaza through egypt and an article in germanys bild newspaper that said hamas was drawing out the hostage talks as a form of psychological warfare on israel\n",
            "Summary:  leaked documents are said to have formed the basis of a widely discredited article in the jewish chronicle. The article suggested hamas planned to spirit hostages out of gaza through egypt.\n",
            "******************************************************************************************************\n",
            "Original: critics say the leaks were aimed at giving netanyahu political cover as the casefire talks ground to a halt\n",
            "Summary: Critics say the leaks were aimed at giving netanyahu political cover as the casefire\n",
            "******************************************************************************************************\n",
            "Original: some have accused netanyahu of resisting a deal in to preserve his governing coalition which includes hardline members who have threatened to bring down the government if he makes concessions to hamas\n",
            "Summary: Netanyahu accused of resisting a deal in to preserve his governing coalition. Hardline members have threatened to bring down the government if he makes concessions to\n",
            "******************************************************************************************************\n",
            "Original: the leaks came at a time of public uproar over the deaths of six hostages who were killed by their hamas captors as israeli soldiers were closing in\n",
            "Summary: The leaks came at a time of public uproar over the deaths of six hostages who were killed by their hamas captors.\n",
            "******************************************************************************************************\n",
            "Original: the indictment said the leaks were meant to create media influence on the public discourse in israel in regards to the handling of the hostage situation after the news of the murder of six hostages\n",
            "Summary: The indictment said the leaks were meant to create media influence on the public discourse in israel in regards to the handling of the hostage situation after the news of the\n",
            "******************************************************************************************************\n",
            "Original: the indictment identified two other netanyahu aides as being connected to the scheme but only feldstein and an unidentified reservist in israeli military intelligence were charged\n",
            "Summary: The indictment identified two other netanyahu aides as being connected to the scheme but only feldstein and an unidentified reserv\n",
            "******************************************************************************************************\n",
            "Original: netanyahu who denies the accusations has not been identified as a suspect in the burgeoning investigation\n",
            "Summary: Netanyahu has not been identified as a suspect in the burgeoning investigation\n",
            "******************************************************************************************************\n",
            "Original: israeli media say if convicted feldstein could potentially face life in prison\n",
            "Summary:  israeli media say if convicted feld\n",
            "******************************************************************************************************\n",
            "Original: israeli military opens probe into death of a man in hezbollah ambush  jerusalem  the israeli military has launched an investigation into the death of a yearold israeli man who entered lebanon with israeli forces and was killed in a hezbollah ambush\n",
            "Summary:  israeli military opens probe into death of a man in hezbollah ambush  jerusalem.\n",
            "******************************************************************************************************\n",
            "Original: investigators are trying to determine among other things who allowed zeev erlich into the combat zone with the forces and why he was permitted to enter\n",
            "Summary: Zeev erlich entered the combat zone with the forces. Investigators are trying to determine who allowed zeev\n",
            "******************************************************************************************************\n",
            "Original: according to israeli media reports erlich was not on active duty when he was shot but was wearing a military uniform and had a weapon\n",
            "Summary:  erlich was not on active duty when he was shot but was wearing a military uniform and had a weapon.\n",
            "******************************************************************************************************\n",
            "Original: the army said he was a reservist with the rank of major and identified him as a fallen soldier when it announced his death\n",
            "Summary: The army said he was a reservist with the rank of major and identified him as a fallen soldier.\n",
            "******************************************************************************************************\n",
            "Original: erlich was a wellknown west bank settler and researcher of jewish history\n",
            "Summary: Erlich was a wellknown west bank sett\n",
            "******************************************************************************************************\n",
            "Original: media reports said erlich was permitted to enter lebanon to explore a local archaeological site\n",
            "Summary:  erlich was permitted to enter lebanon to explore a\n",
            "******************************************************************************************************\n",
            "Original: the army said a yearold soldier was killed in the same incident while an officer was badly wounded\n",
            "Summary: The army said a yearold soldier was killed in the same incident while an\n",
            "******************************************************************************************************\n",
            "Original: the army announced thursday that the chief of staff lt\n",
            "Summary: The army announced thursday that the\n",
            "******************************************************************************************************\n",
            "Original: herzi halevi has appointed a team of experts to examine and strengthen operational discipline and military culture following the incident\n",
            "Summary: Herzi halevi has appointed a team of experts to examine and strengthen operational discipline\n",
            "******************************************************************************************************\n",
            "Original: ori gordin would launch a separate command inquiry while israeli military police conduct a separate probe\n",
            "Summary:  ori gordin would launch a separate command inquiry while israel\n",
            "******************************************************************************************************\n",
            "Original: at least  killed by israeli strikes across lebanon state media reports  beirut  at least  people were killed thursday in israeli strikes on different towns and villages across lebanon according to lebanons health ministry and staterun media\n",
            "Summary:  at least  killed by israeli strikes across lebanon state media reports.\n",
            "******************************************************************************************************\n",
            "Original: in eastern lebanon israeli airstrikes killed  people in six different towns in baalbek province the health ministry and the national news agency said\n",
            "Summary:  israeli airstrikes killed  people in six different towns in baalbek province. in eastern le\n",
            "******************************************************************************************************\n",
            "Original: in tyre province southern lebanon three people were killed in an israeli strike the health ministry said\n",
            "Summary: In tyre province southern lebanon three people were killed in an is\n",
            "******************************************************************************************************\n",
            "Original: the health ministry wednesday said that over  people have been killed in the month war between hezbollah and israel the majority following israels escalation in late september\n",
            "Summary: Health ministry said that over  people have been killed in the month war. The majority following israels escalation in late\n",
            "******************************************************************************************************\n",
            "Original: eu foreign policy chief says icc arrest warrants are binding on all bloc members  the european unions foreign policy chief has underlined that the arrest warrants issued by the international criminal court against israeli prime minister benjamin netanyahu and hamas officials are a legal and not political matter and that they are binding on all  eu member countries and other signatories to the icc to implement\n",
            "Summary:  eu foreign policy chief says icc arrest warrants are binding on all bloc members. Arrest warrants issued by the international criminal court against israeli prime minister benjamin netanyahu and hamas officials.\n",
            "******************************************************************************************************\n",
            "Original: the tragedy in gaza has to stop josep borrell told reporters during a visit to jordan\n",
            "Summary: The tragedy in gaza has to stop josep bor\n",
            "******************************************************************************************************\n",
            "Original: it is the decision of an international court of justice and the decision of the court has to be respected and implemented\n",
            "Summary: \"It is the decision of an international court of justice and the decision has to be respected and\n",
            "******************************************************************************************************\n",
            "Original: this decision is a binding decision on all state parties of the court which include all members of the european union he added\n",
            "Summary: This decision is a binding decision on all state parties of the court which include all members of the euro\n",
            "******************************************************************************************************\n",
            "Original: turkeys ruling party welcomes warrant against netanyahu  ankara  turkish president recep tayyip erdogans ruling partyhas welcomed the decision by the international criminal court to issue arrest warrants against israeli prime minister benjamn netanyahu and former defense minister yoav gallant calling it a judgement made for the sake of humanity\n",
            "Summary:  turkeys ruling party welcomes warrant against netanyahu. turkish president recep tayyip erdogans ruling party has welcomed the decision by the international criminal court.\n",
            "******************************************************************************************************\n",
            "Original: omer celik spokesman for the erdogans party said on the social media platform x that netanyahu and gallant would eventually be held accountable for genocide\n",
            "Summary:  omer celik spokesman for the erdogans party said on the social media platform x that netanyahu and\n",
            "******************************************************************************************************\n",
            "Original: celik also criticised israeli officials who described the icc decision as antisemitic\n",
            "Summary: Celik also criticised israeli officials\n",
            "******************************************************************************************************\n",
            "Original: turkey is among the most vocal critics of israels military actions in gaza and has submitted a formal request to join a genocide case that south africa has filed against israel at the u\n",
            "Summary:  turkey is among the most vocal critics of israels military actions in gaza. turkey has submitted a formal request to join a genocide case that south af\n",
            "******************************************************************************************************\n",
            "Original: dutch minister says his country would arrest netanyahu if he visits  dutch foreign minister caspar veldkamp whose country hosts the international criminal court has confirmed the netherlands would arrest israeli prime minister benjamin netanyahu if he arrived on dutch soil\n",
            "Summary:  dutch minister says his country would arrest netanyahu if he visits. dutch foreign minister caspar veldkamp whose country hosts the international criminal court.\n",
            "******************************************************************************************************\n",
            "Original: we abide  by the rome statute he said in response to a question in parliament thursday\n",
            "Summary: We abide  by the rome statute he said in response to\n",
            "******************************************************************************************************\n",
            "Original: in france a spokesman for the foreign ministry said he supported the international criminal courts prosecutor but declined to comment when asked more specifically if france would arrest netanyahu if he were to step on french soil\n",
            "Summary: The foreign ministry said he supported the international criminal courts prosecutor but declined to comment when asked more specifically if france would arrest netanyahu if he were to step on french soil\n",
            "******************************************************************************************************\n",
            "Original: we ratified the icc statute in  and have consistently supported the courts actions\n",
            "Summary: \"We ratified the icc statute in  and\n",
            "******************************************************************************************************\n",
            "Original: our response will align with these principles christophe lemoine told reporters at a press conference\n",
            "Summary: \"Our response will align with these principles,\" christophe le\n",
            "******************************************************************************************************\n",
            "Original: lemoine added that the warrants were a complex legal issue\n",
            "Summary: The warrants are a complex legal issue\n",
            "******************************************************************************************************\n",
            "Original: its a situation that requires a lot of legal precautions\n",
            "Summary: \"Its a situation that requires a\n",
            "******************************************************************************************************\n",
            "Original: in italy the foreign and justice ministries didnt immediately respond to emails seeking comment about whether italy an icc member which hosted the rome conference that gave birth to the court would honor the arrest warrant\n",
            "Summary: In italy the foreign and justice ministries didnt immediately respond to emails seeking comment about whether italy would honor the arrest warrant.\n",
            "******************************************************************************************************\n",
            "Original: premier giorgia meloni hosted prime minister benjamin netanyahu in march  and has strongly supported israel since oct\n",
            "Summary:  premier giorgia meloni hosted prime minister benjamin netanyahu\n",
            "******************************************************************************************************\n",
            "Original: israeli president says arrest warrants signal dark day for justice  jerusalem  israels mostly ceremonial president isaac herzog has called the international criminal courts arrest warrants against prime minister benjamin netanyahu a dark day for justice\n",
            "Summary:  israeli president says arrest warrants signal dark day for justice. israels mostly ceremonial president isaac herzog has called the international criminal courts arrest\n",
            "******************************************************************************************************\n",
            "Original: in a post on x he said the international court has chosen the side of terror and evil over democracy and freedom and turned the very system of justice into a human shield for hamas crimes against humanity\n",
            "Summary: In a post on x he said the international court has chosen the side of terror and evil over democracy and freedom.\n",
            "******************************************************************************************************\n",
            "Original: israel katz israels new defense minister said the decision was a moral disgrace entirely tainted by antisemitism and drags the international judicial system to an unprecedented low\n",
            "Summary: Israel's new defense minister said the decision was a moral disgrace entirely tainted by antisemitism.\n",
            "******************************************************************************************************\n",
            "Original: he said it serves iran the head of the snake and its proxies\n",
            "Summary: He said it serves iran the head of the\n",
            "******************************************************************************************************\n",
            "Original: benny gantz a retired general and political rival to netanyahu also condemned the decision saying it showed moral blindness and was a shameful stain of historic proportion that will never be forgotten\n",
            "Summary:  benny gantz a retired general and political rival to netanyahu also condemned the decision saying it showed moral blindness.\n",
            "******************************************************************************************************\n",
            "Original: hamas welcomes warrants against netanyahu and gallant  hamas has welcomed the decision by the international criminal court to issue warrants against israeli president benjamin netanyahu and his former defense minister yoav gallant calling it an important and historic precedent after what it said was decades of injustice at the hands of a fascist occupation\n",
            "Summary: Hamas welcomes warrants against netanyahu and gallant. hamas has welcomed the decision by the international criminal court to issue warrants.\n",
            "******************************************************************************************************\n",
            "Original: the statement did not refer to the warrants issued for the militant groups own leaders\n",
            "Summary: The statement did not refer to the warrants issued for the militant\n",
            "******************************************************************************************************\n",
            "Original: hamas called on all nations to cooperate with the court in bringing the zionist war criminals netanyahu and gallant to justice and to work immediately to stop the crimes of genocide against innocent civilians in the gaza strip\n",
            "Summary: Hamas calls on all nations to cooperate with the court in bringing the zionist war criminals netanyahu and gallant to justice.\n",
            "******************************************************************************************************\n",
            "Original: bakeries reopen in central gaza after flour shortages  deir albalah the gaza strip  bakeries have reopened in the central gaza strip after being closed for several days because of flour shortages\n",
            "Summary: Bakeries have reopened in the central gaza strip after being closed for several days because of flour shortages.\n",
            "******************************************************************************************************\n",
            "Original: the shortages appear to have been linked to the looting of nearly  truckloads of aid by armed men in southern gaza last weekend\n",
            "Summary:  shortages appear to have been linked to the looting of nearly  truckloads of aid by armed men in\n",
            "******************************************************************************************************\n",
            "Original: associated press footage showed a crowd of hundreds pushing and shouting outside a bakery in the central city of deir albalah on thursday\n",
            "Summary: Crowd of hundreds pushing and shouting outside a bakery in the central city of deir albalah\n",
            "******************************************************************************************************\n",
            "Original: the day before the reopening the price of a bag of  loaves of pita bread had climbed above\n",
            "Summary: The day before the reopening the price of a bag of  loaves\n",
            "******************************************************************************************************\n",
            "Original: in my house there is not a morsel of bread and the children are hungry said sultan abu sultan who was displaced from northern gaza during the war\n",
            "Summary: In my house there is not a morsel of bread and the children are hungry said sultan abu sultan who was\n",
            "******************************************************************************************************\n",
            "Original: the amount of aid entering gaza plunged in october as israel launched a major offensive in the isolated north where experts say famine may be underway\n",
            "Summary: The amount of aid entering gaza plunged in october as israel launched a major offensive in the isolated north.\n",
            "******************************************************************************************************\n",
            "Original: hunger is widespread across the territory even in central gaza where aid groups have more access\n",
            "Summary:  hunger is widespread across the territory even in central gaza where aid\n",
            "******************************************************************************************************\n",
            "Original: humanitarian organizations say israeli restrictions ongoing fighting and the breakdown of law and order make it difficult to deliver assistance\n",
            "Summary:  humanitarian organizations say ongoing fighting and the breakdown of law and order make it difficult to deliver\n",
            "******************************************************************************************************\n",
            "Original: israels offensive launched after hamas october  attack has displaced around  of gazas population of\n",
            "Summary:  israels offensive launched after hamas october \n",
            "******************************************************************************************************\n",
            "Original: hundreds of thousands are crammed into tent camps with little in the way of public services and are reliant on international food aid\n",
            "Summary: Hundreds of thousands are crammed into tent camps with little in the way of public services. They are reliant\n",
            "******************************************************************************************************\n",
            "Original: cyprus says eu must no longer stand by as an observer to the mideast  nicosia  the president of cyprus says the european union must play a bigger role in the middle east as it can no longer stand by as an observer\n",
            "Summary:  cyprus says eu must no longer stand by as an observer to the mideast. President of Cyprus says the european union must play a bigger role in the middle east.\n",
            "******************************************************************************************************\n",
            "Original: president nikos christodoulides said the member bloc needs to establish closer ties with countries that bolster regional stability like egypt jordan and the gulf states\n",
            "Summary:  president nikos christodoulides said the member bloc needs to establish closer ties with countries that bolster\n",
            "******************************************************************************************************\n",
            "Original: the conflict in the middle east is taking place on the eus doorstep in an area of vital interest to the blocs interests where any escalation or regional spillover will have significant consequences on its security and stability christodoulides told an economist conference in the cypriot capital\n",
            "Summary:  conflict in the middle east is taking place on the eus doorstep. Any escalation will have significant consequences on its security and stability.\n",
            "******************************************************************************************************\n",
            "Original: christodoulides said eu member cyprus for years has tried to get this message across to brussels\n",
            "Summary:  cyprus has tried to get this message across to brussels\n",
            "******************************************************************************************************\n",
            "Original: the island nation earlier this year was the staging ground for a maritime corridor delivering some  tons of humanitarian aid to gaza\n",
            "Summary: The island nation earlier this year was the staging ground for a maritime corridor delivering some  tons of\n",
            "******************************************************************************************************\n",
            "Original: the eu is wracked by members divisions over how peace should come about in the middle east  international criminal court issues arrest warrants for netanyahu and hamas officials  the hague  the international criminal court issued arrest warrants on thursday for israeli prime minister benjamin netanyahu his former defense minister and hamas officials accusing them of war crimes and crimes against humanity over the war in gaza and the october  attacks that triggered israels offensive in the palestinian territory\n",
            "Summary: International criminal court issues arrest warrants for netanyahu and hamas officials. Accuses them of war crimes and crimes against humanity over the war in gaza.\n",
            "******************************************************************************************************\n",
            "Original: the decision turns netanyahu and the others into internationally wanted suspects and is likely to further isolate them and complicate efforts to negotiate a ceasefire to end the month conflict\n",
            "Summary: The decision turns Netanyahu and the others into internationally wanted suspects. The decision is likely to further isolate them and complicate efforts to negotiate a ceasefire\n",
            "******************************************************************************************************\n",
            "Original: but its practical implications could be limited since israel and its major ally the united states are not members of the court and several of the hamas officials have been subsequently killed in the conflict\n",
            "Summary: Israel and its major ally the united states are not members of the court. Several of the hamas officials have been subsequently killed in the conflict.\n",
            "******************************************************************************************************\n",
            "Original: netanyahu and other israeli leaders have previously condemned icc chief prosecutor karim khans request for the warrants as disgraceful and antisemitic\n",
            "Summary: Netanyahu and other leaders have previously condemned icc chief prosecutor karim khans request\n",
            "******************************************************************************************************\n",
            "Original: president joe biden also blasted the prosecutor and expressed support for israels right to defend itself against hamas\n",
            "Summary: President joe biden also blasted the prosecutor and expressed support for isra\n",
            "******************************************************************************************************\n",
            "Original: death toll in gaza surpasses  local officials say  the death toll in the gaza strip from the monthold war between israel and hamas has surpassed  local health officials said thursday\n",
            "Summary: The death toll in the gaza strip from the monthold war between israel and hamas has surpassed  local health officials said th\n",
            "******************************************************************************************************\n",
            "Original: the gaza health ministry does not distinguish between civilians and combatants in its count but it has said that more than half of the fatalities are women and children\n",
            "Summary: The gaza health ministry does not distinguish between civilians and combatants in its count. More than half of the fatalities are women and children\n",
            "******************************************************************************************************\n",
            "Original: the israeli military says it has killed over  militants without providing evidence\n",
            "Summary: The israeli military says it has killed\n",
            "******************************************************************************************************\n",
            "Original: the health ministry said  people have been killed and  wounded since the start of the war\n",
            "Summary: The health ministry said  people have been killed and wounded since the\n",
            "******************************************************************************************************\n",
            "Original: it has said the real toll is higher because thousands of bodies are buried under rubble or in areas that medics cannot access\n",
            "Summary: It has said the real toll is higher because thousands of bodies are buried under rubble or in areas that\n",
            "******************************************************************************************************\n",
            "Original: the war began when hamasled militants stormed into southern israel on oct\n",
            "Summary: The war began when hamasled militants stormed\n",
            "******************************************************************************************************\n",
            "Original: around  hostages are still inside gaza at least a third of whom are believed to be dead\n",
            "Summary: Around  hostages are still inside gaza at least a third of whom\n",
            "******************************************************************************************************\n",
            "Original: most of the rest were released during a ceasefire last year\n",
            "Summary: Most of the rest were released during a\n",
            "******************************************************************************************************\n",
            "Original: million people have been displaced often multiple times and hundreds of thousands are living in squalid tent camps with little food water or basic services\n",
            "Summary: Hundreds of thousands are living in squalid tent camps with little food water or basic services. One million people have\n",
            "******************************************************************************************************\n",
            "Original: israel says it tries to avoid harming civilians and blames their deaths on hamas because the militants operate in residential areas where they have built tunnels rocket launchers and other military infrastructure\n",
            "Summary:  israel says it tries to avoid harming civilians and blames their deaths on hamas because the militants operate in residential areas.\n",
            "******************************************************************************************************\n",
            "Original: rocket from lebanon kills  wounds  others in northern israel  jerusalem  a rocket fired from lebanon killed a man and wounded two others in northern israel on thursday according to the magen david adom rescue service\n",
            "Summary: A rocket fired from lebanon killed a man and wounded two others in northern israel.\n",
            "******************************************************************************************************\n",
            "Original: the service said paramedics found the body of the man in his s near a playground in the town of nahariya near the border with lebanon after a rocket attack on thursday\n",
            "Summary: Paramedics found the man in his s near a playground in the town of nahariya near the border with lebanon.\n",
            "******************************************************************************************************\n",
            "Original: israel meanwhile struck targets in southern lebanon and several buildings south of beirut the lebanese capital after warning people to evacuate\n",
            "Summary:  israel meanwhile struck targets in southern lebanon and several buildings south of beirut\n"
          ]
        }
      ]
    },
    {
      "cell_type": "code",
      "source": [],
      "metadata": {
        "id": "8UkiPpPzvwmx"
      },
      "execution_count": 19,
      "outputs": []
    }
  ]
}